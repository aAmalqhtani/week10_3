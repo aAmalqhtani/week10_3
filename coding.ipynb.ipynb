/ SPDX-License-Identifier: GPL-3.0

pragma solidity >=0.7.0 <0.9.0;

contract empty {  
    /*TIS IS JUST FOR FUN
    */


}

contract HelloWorld {
    function get()public pure returns (string memory){
        return "Hello Contracts";
    }
}








contract bank2{
    int bal;
    constructor() public{
        bal=1;
    }
    function getBalance() public returns(int) {
        return bal;

    }
    function withdraw(int amt) public {
        bal = bal-amt;
    }
    function deposit(int amt) public {
        bal = bal+amt;
    }
}
